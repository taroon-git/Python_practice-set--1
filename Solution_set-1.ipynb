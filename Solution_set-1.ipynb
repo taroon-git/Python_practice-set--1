{
 "cells": [
  {
   "cell_type": "markdown",
   "id": "d95b1d92-f137-40be-854e-e6d21eab4ce1",
   "metadata": {},
   "source": [
    "Q1. Write a Python program that defines a function called \"add_numbers\" that takes two arguments (i.e.,\n",
    "numbers) and returns their sum. Within the function, add the two numbers together and return the result\n",
    "using the return statement. Call the function with the values 5 and 6, and print out the returned result.\n",
    "This will result in the addition of 5 and 6, with the output of the program being the sum of these two\n",
    "numbers."
   ]
  },
  {
   "cell_type": "code",
   "execution_count": 1,
   "id": "cfd6f911-d2ac-4576-9a35-8f66ec33cc49",
   "metadata": {},
   "outputs": [],
   "source": [
    "def add_numbers(num1 , num2):\n",
    "        sum = num1 + num2\n",
    "        return sum"
   ]
  },
  {
   "cell_type": "code",
   "execution_count": 2,
   "id": "c8031eb7-7a28-4a5a-9eaf-d00328b5aad7",
   "metadata": {},
   "outputs": [
    {
     "data": {
      "text/plain": [
       "11"
      ]
     },
     "execution_count": 2,
     "metadata": {},
     "output_type": "execute_result"
    }
   ],
   "source": [
    "add_numbers(5,6)"
   ]
  },
  {
   "cell_type": "markdown",
   "id": "39d5b273-92c2-4667-83f3-cb64a596278f",
   "metadata": {},
   "source": [
    "Q2. Write a Python program that calculates the square root of a given number using a built-in function.\n",
    "Specifically, the program should take an integer or float input from the user, calculate its square root\n",
    "using the 'sqrt()' function from the 'math' module, and print out the result to the user. As an example,\n",
    "calculate the square root of the number 625 using this program, which should output the value of 25."
   ]
  },
  {
   "cell_type": "code",
   "execution_count": 7,
   "id": "5e5f28b8-409e-44b7-9a14-232e6cf90a62",
   "metadata": {},
   "outputs": [
    {
     "name": "stdin",
     "output_type": "stream",
     "text": [
      "Enter your number 25.0\n"
     ]
    },
    {
     "data": {
      "text/plain": [
       "5.0"
      ]
     },
     "execution_count": 7,
     "metadata": {},
     "output_type": "execute_result"
    }
   ],
   "source": [
    "import math\n",
    "number = float(input(\"Enter your number\"))\n",
    "math.sqrt(number)"
   ]
  },
  {
   "cell_type": "markdown",
   "id": "80d3fc29-c0b7-4968-9f08-9b564cd1ef1c",
   "metadata": {},
   "source": [
    "Q3.Write a program that prints all prime numbers between 0 to 50."
   ]
  },
  {
   "cell_type": "code",
   "execution_count": 14,
   "id": "37be1d19-24c1-496b-93c1-ef35a798a15e",
   "metadata": {},
   "outputs": [
    {
     "name": "stdin",
     "output_type": "stream",
     "text": [
      "Enter any number 11\n"
     ]
    },
    {
     "name": "stdout",
     "output_type": "stream",
     "text": [
      "This is my prime number\n"
     ]
    }
   ],
   "source": [
    "num = int(input(\"Enter any number\"))\n",
    "if(num<2):\n",
    "    print(\"Not a Prime\")\n",
    "for i in range(2,num):\n",
    "    if(num%i==0):\n",
    "        print(\"Not a prime\")\n",
    "        break\n",
    "else:\n",
    "    print(\"This is my prime number\")"
   ]
  },
  {
   "cell_type": "markdown",
   "id": "4e4136e9-8f1d-4234-8984-78c4dc63a308",
   "metadata": {},
   "source": [
    "Q4.How can we swap the values of three variables (let's say a, b, and c) without using a fourth variable?\n",
    "For example, if we have a=5, b=8, and c=9, how can we obtain a=9, b=5, and c=8? The challenge is to\n",
    "perform this operation without using an additional variable to store any of the values during the\n",
    "swapping process."
   ]
  },
  {
   "cell_type": "code",
   "execution_count": 36,
   "id": "216bfd63-d465-4fa6-a25a-f1cd04aa2716",
   "metadata": {},
   "outputs": [
    {
     "name": "stdin",
     "output_type": "stream",
     "text": [
      " 5\n",
      " 8\n",
      " 9\n"
     ]
    },
    {
     "name": "stdout",
     "output_type": "stream",
     "text": [
      "9\n",
      "5\n",
      "8\n"
     ]
    }
   ],
   "source": [
    "a = int(input())\n",
    "b = int(input())\n",
    "c = int(input())\n",
    "b = a^b^c\n",
    "c = (b^(a^c))\n",
    "a = (b^(a^c))\n",
    "b = (b^(a^c))\n",
    "print(a)\n",
    "print(b)\n",
    "print(c)"
   ]
  },
  {
   "cell_type": "markdown",
   "id": "87a0fe02-0d40-4f34-ac09-99f9bf698d39",
   "metadata": {},
   "source": [
    "Q5. Can you write a program that determines the nature of a given number (in this case, 87) as being\n",
    "positive, negative, or zero? The program should be designed to take the number as input and perform the\n",
    "necessary calculations to determine if the number is positive (i.e., greater than zero), negative (i.e., less\n",
    "than zero), or zero (i.e., equal to zero). The output of the program should indicate which of these three\n",
    "categories the given number falls into."
   ]
  },
  {
   "cell_type": "code",
   "execution_count": 8,
   "id": "c467ef04-9baa-4755-9f05-db6e7fee944d",
   "metadata": {},
   "outputs": [
    {
     "name": "stdin",
     "output_type": "stream",
     "text": [
      " 44\n"
     ]
    },
    {
     "name": "stdout",
     "output_type": "stream",
     "text": [
      "Category 1\n"
     ]
    }
   ],
   "source": [
    "# Category 1 :- '+' Positive numbers lies in 'category-1'\n",
    "# Category 2 :- '-' Negative numbers lies inside th 'category-2'\n",
    "# Category 3 :- '0' Zero lies inside the 'category-3'\n",
    "\n",
    "def num_nature(number):\n",
    "    if(number>0):\n",
    "        print(\"Category 1\")\n",
    "    elif(number<0):\n",
    "        print(\"Category 2\")\n",
    "    else:\n",
    "        print(\"Category 3\")\n",
    "give_num = num_nature(int(input()))\n"
   ]
  },
  {
   "cell_type": "markdown",
   "id": "aa548d02-d80e-40da-8a8c-e8e29bec658c",
   "metadata": {},
   "source": [
    "Q6. How can you create a program that determines whether a given number (in this case, 98) is even or\n",
    "odd? The program should be designed to take the number as input and perform the necessary\n",
    "calculations to determine whether it is divisible by two. If the number is divisible by two without leaving a\n",
    "remainder, it is an even number, and if there is a remainder, it is an odd number. The output of the\n",
    "program should indicate whether the given number is even or odd."
   ]
  },
  {
   "cell_type": "code",
   "execution_count": 13,
   "id": "950337ce-41f2-4b5a-af54-0fe4c14a716e",
   "metadata": {},
   "outputs": [
    {
     "name": "stdin",
     "output_type": "stream",
     "text": [
      "Enter yoru desired number 98\n"
     ]
    },
    {
     "name": "stdout",
     "output_type": "stream",
     "text": [
      "Even\n"
     ]
    }
   ],
   "source": [
    "def ev_od(num):\n",
    "    if(num%2==0):\n",
    "        print(\"Even\")\n",
    "    else:\n",
    "        print(\"Odd\")\n",
    "        \n",
    "obj = ev_od(int(input(\"Enter yoru desired number\")))"
   ]
  },
  {
   "cell_type": "markdown",
   "id": "ce7a4ea3-7194-4f2e-ab5d-3eb46f5f7e00",
   "metadata": {},
   "source": [
    "Q7.Write a program for sum of digits.the digits are 76543 and the output should be 25."
   ]
  },
  {
   "cell_type": "code",
   "execution_count": 9,
   "id": "242f5b92-e66f-4c06-865f-9b5bb7c8fda6",
   "metadata": {},
   "outputs": [
    {
     "name": "stdin",
     "output_type": "stream",
     "text": [
      "Enter your number 76543\n"
     ]
    },
    {
     "name": "stdout",
     "output_type": "stream",
     "text": [
      "25\n"
     ]
    }
   ],
   "source": [
    "n = int(input(\"Enter your number\"))\n",
    "sum = 0\n",
    "while(n>0):\n",
    "    a = n%10\n",
    "    n = n/10\n",
    "    sum = sum+int(a)\n",
    "    \n",
    "print(sum)"
   ]
  },
  {
   "cell_type": "markdown",
   "id": "ca325aec-1bb5-46a2-8d39-d9720200a028",
   "metadata": {},
   "source": [
    "Q8.Write a program for reversing the given number 5436 and the output should be 6345."
   ]
  },
  {
   "cell_type": "code",
   "execution_count": 25,
   "id": "c2cede22-882e-4ac7-9917-8be05aaa8bbf",
   "metadata": {},
   "outputs": [
    {
     "name": "stdin",
     "output_type": "stream",
     "text": [
      "Enter your number 5436\n"
     ]
    },
    {
     "name": "stdout",
     "output_type": "stream",
     "text": [
      "6345\n"
     ]
    }
   ],
   "source": [
    "n = int(input(\"Enter your number\"))\n",
    "reversed_data = 0\n",
    "while(n>0):\n",
    "    a = n%10 # leave remainder as a last digit.\n",
    "    reversed_data = reversed_data*10 + a\n",
    "    n = n// 10    # drop the last digit.\n",
    "    \n",
    "print(reversed_data)"
   ]
  },
  {
   "cell_type": "markdown",
   "id": "fa1c7296-1c6e-43fa-b55e-bf078ef41593",
   "metadata": {},
   "source": [
    "Q9.Write a program to check if a given number 371 is an Armstrong number?"
   ]
  },
  {
   "cell_type": "code",
   "execution_count": 10,
   "id": "0f427277-336a-457a-9422-779e3c4505b2",
   "metadata": {},
   "outputs": [
    {
     "name": "stdin",
     "output_type": "stream",
     "text": [
      "Enter any number 153\n"
     ]
    },
    {
     "name": "stdout",
     "output_type": "stream",
     "text": [
      "'Yes', This is an Armstrong number\n"
     ]
    }
   ],
   "source": [
    "\n",
    "num = int(input(\"Enter any number\"))\n",
    "replica_num = num\n",
    "arm_num = 0\n",
    "while(num>0):\n",
    "    a = num%10\n",
    "    arm_num = arm_num + int(a**3)\n",
    "    num = num//10\n",
    "\n",
    "if(replica_num == arm_num):\n",
    "    print(\"'Yes', This is an Armstrong number\")\n",
    "else:\n",
    "    print(\"No, This is not an Armstrong number\")\n"
   ]
  },
  {
   "cell_type": "markdown",
   "id": "3e78d352-0d3d-4422-9709-a9990a26c2bf",
   "metadata": {},
   "source": [
    "Q10.Write a program the given year is 1996, a leap year."
   ]
  },
  {
   "cell_type": "code",
   "execution_count": 19,
   "id": "ccc04438-9adb-49df-a0da-397716b22be8",
   "metadata": {},
   "outputs": [
    {
     "name": "stdin",
     "output_type": "stream",
     "text": [
      "Enter any year 1996\n"
     ]
    },
    {
     "name": "stdout",
     "output_type": "stream",
     "text": [
      "Year is leap year\n"
     ]
    }
   ],
   "source": [
    "year = int(input(\"Enter any year\"))\n",
    "if((year%400==0) or (year%100!=0) and (year%4==0)):\n",
    "    print(\"Year is leap year\")\n",
    "else:\n",
    "    print(\"Not a leap year\")"
   ]
  },
  {
   "cell_type": "code",
   "execution_count": null,
   "id": "bcaf0069-3e89-47fd-bc08-07044d320532",
   "metadata": {},
   "outputs": [],
   "source": []
  }
 ],
 "metadata": {
  "kernelspec": {
   "display_name": "Python 3 (ipykernel)",
   "language": "python",
   "name": "python3"
  },
  "language_info": {
   "codemirror_mode": {
    "name": "ipython",
    "version": 3
   },
   "file_extension": ".py",
   "mimetype": "text/x-python",
   "name": "python",
   "nbconvert_exporter": "python",
   "pygments_lexer": "ipython3",
   "version": "3.10.6"
  }
 },
 "nbformat": 4,
 "nbformat_minor": 5
}
